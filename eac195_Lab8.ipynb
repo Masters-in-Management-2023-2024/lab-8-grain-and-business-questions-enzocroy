{
  "cells": [
    {
      "cell_type": "markdown",
      "metadata": {
        "id": "lNlDKhis2n79"
      },
      "source": [
        "# Diamond Company Analytics Challenge\n",
        "\n",
        "**Time:** 35 minutes\n",
        "\n",
        "**Scenario:** You are the new data analyst at a prestigious diamond company. The CEO has called an urgent meeting and needs answers to critical business questions about the inventory.\n",
        "\n",
        "**Your Mission:** Analyze the diamond inventory data and provide insights to guide strategic decisions."
      ]
    },
    {
      "cell_type": "code",
      "execution_count": 1,
      "metadata": {
        "id": "lvuqaP-n2n79",
        "colab": {
          "base_uri": "https://localhost:8080/"
        },
        "outputId": "5a9c895f-16a6-4dd2-978a-e48b24796e4e"
      },
      "outputs": [
        {
          "output_type": "stream",
          "name": "stdout",
          "text": [
            "Loading diamonds dataset...\n",
            "Dataset loaded successfully!\n"
          ]
        }
      ],
      "source": [
        "import polars as pl\n",
        "\n",
        "# Load the diamonds dataset\n",
        "print(\"Loading diamonds dataset...\")\n",
        "df = pl.read_csv('https://raw.githubusercontent.com/pycaret/pycaret/master/datasets/diamond.csv')\n",
        "print(\"Dataset loaded successfully!\")"
      ]
    },
    {
      "cell_type": "markdown",
      "metadata": {
        "id": "HQ1IJ9UF2n7-"
      },
      "source": [
        "## Section 1: Initial Inventory Assessment (5 minutes)\n",
        "\n",
        "The CEO walks in: \"Before we dive into specifics, I need to understand what we're working with. Give me the basics about our inventory database.\""
      ]
    },
    {
      "cell_type": "markdown",
      "metadata": {
        "id": "w6M5_7ki2n7-"
      },
      "source": [
        "### Question 1: \"How extensive is our inventory database?\"\n",
        "\n",
        "The CEO needs to know the scale of data you're analyzing."
      ]
    },
    {
      "cell_type": "code",
      "execution_count": 3,
      "metadata": {
        "id": "Uj-l_PVl2n7-",
        "colab": {
          "base_uri": "https://localhost:8080/"
        },
        "outputId": "6387ce3e-ab0a-43dc-e4b8-4d4c67e3ce50"
      },
      "outputs": [
        {
          "output_type": "stream",
          "name": "stdout",
          "text": [
            "Shape: (6000, 8)\n"
          ]
        }
      ],
      "source": [
        "# Your code here:\n",
        "\n",
        "print(f\"Shape: {df.shape}\")"
      ]
    },
    {
      "cell_type": "markdown",
      "metadata": {
        "id": "t2AXEJNT2n7-"
      },
      "source": [
        "### Question 2: \"What information do we track about each diamond?\"\n",
        "\n",
        "List all the characteristics we record."
      ]
    },
    {
      "cell_type": "code",
      "execution_count": 4,
      "metadata": {
        "id": "R2FBPPE62n7-",
        "colab": {
          "base_uri": "https://localhost:8080/"
        },
        "outputId": "da858157-bad9-427f-aaf7-00d9648a8d47"
      },
      "outputs": [
        {
          "output_type": "stream",
          "name": "stdout",
          "text": [
            "Columns: ['Carat Weight', 'Cut', 'Color', 'Clarity', 'Polish', 'Symmetry', 'Report', 'Price']\n"
          ]
        }
      ],
      "source": [
        "# Your code here:\n",
        "\n",
        "print(f\"Columns: {df.columns}\")"
      ]
    },
    {
      "cell_type": "markdown",
      "metadata": {
        "id": "808q8jPd2n7-"
      },
      "source": [
        "### Question 3: \"When I look at one line in this database, what am I looking at?\"\n",
        "\n",
        "Explain in business terms:"
      ]
    },
    {
      "cell_type": "markdown",
      "metadata": {
        "id": "q3CqfyQa2n7-"
      },
      "source": [
        "**Your answer:** Each row represents: a diamond\n",
        "\n"
      ]
    },
    {
      "cell_type": "markdown",
      "metadata": {
        "id": "_2EvWgDR2n7-"
      },
      "source": [
        "## Section 2: Strategic Business Questions (20 minutes)\n",
        "\n",
        "The CEO continues: \"Now let's get to the important questions. Our board meeting is tomorrow and I need concrete numbers.\""
      ]
    },
    {
      "cell_type": "markdown",
      "metadata": {
        "id": "REKzPElF2n7-"
      },
      "source": [
        "### Question 4: \"We're considering expanding our storage facilities. How many total carats do we have in inventory? I need to know if our vaults can handle the weight.\"\n",
        "\n",
        "Think about what measurement would help answer this."
      ]
    },
    {
      "cell_type": "code",
      "execution_count": 5,
      "metadata": {
        "id": "8Sty1stf2n7-",
        "colab": {
          "base_uri": "https://localhost:8080/"
        },
        "outputId": "c93501d7-f2a5-4415-b35c-59e4d101feb1"
      },
      "outputs": [
        {
          "output_type": "stream",
          "name": "stdout",
          "text": [
            "Number of diamonds: 6000\n"
          ]
        }
      ],
      "source": [
        "# Your code here:\n",
        "\n",
        "# How many total carats in the inventory?\n",
        "\n",
        "count = len(df)\n",
        "print(f\"Number of diamonds: {count}\")"
      ]
    },
    {
      "cell_type": "markdown",
      "metadata": {
        "id": "_a7jX8d32n7-"
      },
      "source": [
        "### Question 5: \"Our new marketing campaign claims we have 'the widest variety of cuts in the industry.' Can you verify this?\"\n",
        "\n",
        "The CEO wants to know about variety, not quantity."
      ]
    },
    {
      "cell_type": "code",
      "execution_count": 6,
      "metadata": {
        "id": "C9eY_JgQ2n7-",
        "colab": {
          "base_uri": "https://localhost:8080/",
          "height": 273
        },
        "outputId": "2cb8c4ab-610a-49d8-c322-9f87db56c988"
      },
      "outputs": [
        {
          "output_type": "stream",
          "name": "stdout",
          "text": [
            "Variety of Diamonds:\n"
          ]
        },
        {
          "output_type": "execute_result",
          "data": {
            "text/plain": [
              "shape: (5, 2)\n",
              "┌─────────────────┬───────┐\n",
              "│ Cut             ┆ count │\n",
              "│ ---             ┆ ---   │\n",
              "│ str             ┆ u32   │\n",
              "╞═════════════════╪═══════╡\n",
              "│ Ideal           ┆ 2482  │\n",
              "│ Very Good       ┆ 2428  │\n",
              "│ Good            ┆ 708   │\n",
              "│ Signature-Ideal ┆ 253   │\n",
              "│ Fair            ┆ 129   │\n",
              "└─────────────────┴───────┘"
            ],
            "text/html": [
              "<div><style>\n",
              ".dataframe > thead > tr,\n",
              ".dataframe > tbody > tr {\n",
              "  text-align: right;\n",
              "  white-space: pre-wrap;\n",
              "}\n",
              "</style>\n",
              "<small>shape: (5, 2)</small><table border=\"1\" class=\"dataframe\"><thead><tr><th>Cut</th><th>count</th></tr><tr><td>str</td><td>u32</td></tr></thead><tbody><tr><td>&quot;Ideal&quot;</td><td>2482</td></tr><tr><td>&quot;Very Good&quot;</td><td>2428</td></tr><tr><td>&quot;Good&quot;</td><td>708</td></tr><tr><td>&quot;Signature-Ideal&quot;</td><td>253</td></tr><tr><td>&quot;Fair&quot;</td><td>129</td></tr></tbody></table></div>"
            ]
          },
          "metadata": {},
          "execution_count": 6
        }
      ],
      "source": [
        "# Your code here:\n",
        "\n",
        "# Frequency/ most common/ how many = can break down each cut and see how much of each cut there is\n",
        "\n",
        "variety_diamond = df.group_by(pl.col(\"Cut\")).agg(pl.col(\"Cut\").count().alias(\"count\")).sort(\"count\", descending=True)\n",
        "print(\"Variety of Diamonds:\")\n",
        "variety_diamond\n",
        ""
      ]
    },
    {
      "cell_type": "markdown",
      "metadata": {
        "id": "mO8P5HXk2n7-"
      },
      "source": [
        "### Question 6: \"I'm meeting with our insurance company. They need to know our price exposure - what's our most and least valuable diamond?\""
      ]
    },
    {
      "cell_type": "code",
      "execution_count": 12,
      "metadata": {
        "id": "R0GY935Q2n7-",
        "colab": {
          "base_uri": "https://localhost:8080/"
        },
        "outputId": "c35f6ad9-953a-401c-b3bc-680a9c3f4641"
      },
      "outputs": [
        {
          "output_type": "stream",
          "name": "stdout",
          "text": [
            "Our most expensive diamond is: $101,561.00\n",
            "Our least expensive diamond is: $2,184.00\n",
            "This is the range: $99,377.00\n"
          ]
        }
      ],
      "source": [
        "# Your code here:\n",
        "\n",
        "# Most expensive diamond\n",
        "\n",
        "max_price = df.select(pl.col(\"Price\").max()).item()\n",
        "print(f\"Our most expensive diamond is: ${max_price:,.2f}\")\n",
        "\n",
        "# Least expensive diamond\n",
        "\n",
        "low_price = df.select(pl.col(\"Price\").min()).item()\n",
        "print(f\"Our least expensive diamond is: ${low_price:,.2f}\")\n",
        "\n",
        "# Difference\n",
        "\n",
        "difference = ((max_price) - (low_price))\n",
        "print(f\"This is the range: ${difference:,.2f}\")"
      ]
    },
    {
      "cell_type": "markdown",
      "metadata": {
        "id": "Us-Xz4XI2n7-"
      },
      "source": [
        "### Question 7: \"Which color grades should we focus on in our premium line? I need typical prices across our color spectrum.\"\n",
        "\n",
        "The CEO wants to understand pricing patterns."
      ]
    },
    {
      "cell_type": "code",
      "execution_count": 19,
      "metadata": {
        "id": "llWbGd8F2n7-",
        "colab": {
          "base_uri": "https://localhost:8080/",
          "height": 286
        },
        "outputId": "6b9d061f-ede4-4c55-c5bc-9d9b537de2d6"
      },
      "outputs": [
        {
          "output_type": "execute_result",
          "data": {
            "text/plain": [
              "shape: (6, 3)\n",
              "┌───────┬──────────────┬───────┐\n",
              "│ Color ┆ avg_price    ┆ count │\n",
              "│ ---   ┆ ---          ┆ ---   │\n",
              "│ str   ┆ f64          ┆ u32   │\n",
              "╞═══════╪══════════════╪═══════╡\n",
              "│ D     ┆ 15255.783661 ┆ 661   │\n",
              "│ F     ┆ 12712.241856 ┆ 1013  │\n",
              "│ G     ┆ 12520.050633 ┆ 1501  │\n",
              "│ E     ┆ 11539.190231 ┆ 778   │\n",
              "│ H     ┆ 10487.347544 ┆ 1079  │\n",
              "│ I     ┆ 8989.636364  ┆ 968   │\n",
              "└───────┴──────────────┴───────┘"
            ],
            "text/html": [
              "<div><style>\n",
              ".dataframe > thead > tr,\n",
              ".dataframe > tbody > tr {\n",
              "  text-align: right;\n",
              "  white-space: pre-wrap;\n",
              "}\n",
              "</style>\n",
              "<small>shape: (6, 3)</small><table border=\"1\" class=\"dataframe\"><thead><tr><th>Color</th><th>avg_price</th><th>count</th></tr><tr><td>str</td><td>f64</td><td>u32</td></tr></thead><tbody><tr><td>&quot;D&quot;</td><td>15255.783661</td><td>661</td></tr><tr><td>&quot;F&quot;</td><td>12712.241856</td><td>1013</td></tr><tr><td>&quot;G&quot;</td><td>12520.050633</td><td>1501</td></tr><tr><td>&quot;E&quot;</td><td>11539.190231</td><td>778</td></tr><tr><td>&quot;H&quot;</td><td>10487.347544</td><td>1079</td></tr><tr><td>&quot;I&quot;</td><td>8989.636364</td><td>968</td></tr></tbody></table></div>"
            ]
          },
          "metadata": {},
          "execution_count": 19
        }
      ],
      "source": [
        "# Your code here:\n",
        "\n",
        "# Find average price across each color\n",
        "\n",
        "avg_color_price = df.group_by(\"Color\").agg(\n",
        "    pl.col(\"Price\").mean().alias(\"avg_price\"),\n",
        "    pl.len().alias(\"count\")\n",
        ").sort(\"avg_price\", descending=True)\n",
        "\n",
        "avg_color_price"
      ]
    },
    {
      "cell_type": "markdown",
      "metadata": {
        "id": "gOB-Menf2n7-"
      },
      "source": [
        "**Reflection:** After analyzing by color, how has your view of the data changed? What does each row in your result represent now?"
      ]
    },
    {
      "cell_type": "markdown",
      "metadata": {
        "id": "buVmIE8H2n7_"
      },
      "source": [
        "**Your answer:** New grain = Color of diamonds. Their average price and count."
      ]
    },
    {
      "cell_type": "markdown",
      "metadata": {
        "id": "z6K3nHzw2n7_"
      },
      "source": [
        "## Section 3: Advanced Strategic Analysis (10 minutes)\n",
        "\n",
        "The CEO leans forward: \"These next questions will shape our strategy for next year.\""
      ]
    },
    {
      "cell_type": "markdown",
      "metadata": {
        "id": "JObUsNAI2n7_"
      },
      "source": [
        "### Question 8: \"We're thinking of specializing in certain clarity grades. For our investor deck, I need a complete breakdown showing: how many diamonds we have in each clarity grade, their typical price, and the total carats we're holding for each grade.\""
      ]
    },
    {
      "cell_type": "code",
      "execution_count": 23,
      "metadata": {
        "id": "SDs6f5C12n7_",
        "colab": {
          "base_uri": "https://localhost:8080/",
          "height": 318
        },
        "outputId": "875f6b1b-7565-47d1-bb2e-7450d4a16d3d"
      },
      "outputs": [
        {
          "output_type": "execute_result",
          "data": {
            "text/plain": [
              "shape: (7, 4)\n",
              "┌─────────┬───────┬──────────────┬─────────────┐\n",
              "│ Clarity ┆ count ┆ avg_price    ┆ total_carat │\n",
              "│ ---     ┆ ---   ┆ ---          ┆ ---         │\n",
              "│ str     ┆ u32   ┆ f64          ┆ f64         │\n",
              "╞═════════╪═══════╪══════════════╪═════════════╡\n",
              "│ SI1     ┆ 2059  ┆ 8018.864012  ┆ 2563.69     │\n",
              "│ VS2     ┆ 1575  ┆ 11809.053333 ┆ 2170.81     │\n",
              "│ FL      ┆ 4     ┆ 63776.0      ┆ 7.87        │\n",
              "│ VVS2    ┆ 666   ┆ 14142.177177 ┆ 876.58      │\n",
              "│ IF      ┆ 219   ┆ 22105.844749 ┆ 316.0       │\n",
              "│ VVS1    ┆ 285   ┆ 16845.680702 ┆ 389.43      │\n",
              "│ VS1     ┆ 1192  ┆ 13694.113255 ┆ 1682.74     │\n",
              "└─────────┴───────┴──────────────┴─────────────┘"
            ],
            "text/html": [
              "<div><style>\n",
              ".dataframe > thead > tr,\n",
              ".dataframe > tbody > tr {\n",
              "  text-align: right;\n",
              "  white-space: pre-wrap;\n",
              "}\n",
              "</style>\n",
              "<small>shape: (7, 4)</small><table border=\"1\" class=\"dataframe\"><thead><tr><th>Clarity</th><th>count</th><th>avg_price</th><th>total_carat</th></tr><tr><td>str</td><td>u32</td><td>f64</td><td>f64</td></tr></thead><tbody><tr><td>&quot;SI1&quot;</td><td>2059</td><td>8018.864012</td><td>2563.69</td></tr><tr><td>&quot;VS2&quot;</td><td>1575</td><td>11809.053333</td><td>2170.81</td></tr><tr><td>&quot;FL&quot;</td><td>4</td><td>63776.0</td><td>7.87</td></tr><tr><td>&quot;VVS2&quot;</td><td>666</td><td>14142.177177</td><td>876.58</td></tr><tr><td>&quot;IF&quot;</td><td>219</td><td>22105.844749</td><td>316.0</td></tr><tr><td>&quot;VVS1&quot;</td><td>285</td><td>16845.680702</td><td>389.43</td></tr><tr><td>&quot;VS1&quot;</td><td>1192</td><td>13694.113255</td><td>1682.74</td></tr></tbody></table></div>"
            ]
          },
          "metadata": {},
          "execution_count": 23
        }
      ],
      "source": [
        "# Your code here:\n",
        "\n",
        "# Specialising for certain clarity grades\n",
        "  # How many in each clarity grade\n",
        "    # Their typical price\n",
        "      # Total carats for each grade\n",
        "\n",
        "Specialize_diamonds = df.group_by(\"Clarity\").agg(\n",
        "    pl.col(\"Clarity\").count().alias(\"count\"),\n",
        "    pl.col(\"Price\").mean().alias(\"avg_price\"),\n",
        "    pl.col(\"Carat Weight\").sum().alias(\"total_carat\")\n",
        ")\n",
        "\n",
        "Specialize_diamonds"
      ]
    },
    {
      "cell_type": "markdown",
      "metadata": {
        "id": "izIViWBn2n7_"
      },
      "source": [
        "### Question 9: \"My luxury competitor claims they have the best prices for every cut-color combination. Show me our pricing structure across these combinations - I want to see where we're competitive.\""
      ]
    },
    {
      "cell_type": "code",
      "execution_count": 30,
      "metadata": {
        "id": "fHECfUu52n7_",
        "colab": {
          "base_uri": "https://localhost:8080/",
          "height": 443
        },
        "outputId": "857e6803-3ecb-4abe-d1ff-b911d288011f"
      },
      "outputs": [
        {
          "output_type": "execute_result",
          "data": {
            "text/plain": [
              "shape: (30, 3)\n",
              "┌───────────┬───────┬──────────────┐\n",
              "│ Cut       ┆ Color ┆ avg_price    │\n",
              "│ ---       ┆ ---   ┆ ---          │\n",
              "│ str       ┆ str   ┆ f64          │\n",
              "╞═══════════╪═══════╪══════════════╡\n",
              "│ Fair      ┆ D     ┆ 6058.25      │\n",
              "│ Fair      ┆ E     ┆ 5370.625     │\n",
              "│ Fair      ┆ F     ┆ 6063.625     │\n",
              "│ Fair      ┆ G     ┆ 7345.52381   │\n",
              "│ Fair      ┆ H     ┆ 5908.5       │\n",
              "│ …         ┆ …     ┆ …            │\n",
              "│ Very Good ┆ E     ┆ 12101.910217 │\n",
              "│ Very Good ┆ F     ┆ 12413.905495 │\n",
              "│ Very Good ┆ G     ┆ 12354.013841 │\n",
              "│ Very Good ┆ H     ┆ 10056.106132 │\n",
              "│ Very Good ┆ I     ┆ 8930.031332  │\n",
              "└───────────┴───────┴──────────────┘"
            ],
            "text/html": [
              "<div><style>\n",
              ".dataframe > thead > tr,\n",
              ".dataframe > tbody > tr {\n",
              "  text-align: right;\n",
              "  white-space: pre-wrap;\n",
              "}\n",
              "</style>\n",
              "<small>shape: (30, 3)</small><table border=\"1\" class=\"dataframe\"><thead><tr><th>Cut</th><th>Color</th><th>avg_price</th></tr><tr><td>str</td><td>str</td><td>f64</td></tr></thead><tbody><tr><td>&quot;Fair&quot;</td><td>&quot;D&quot;</td><td>6058.25</td></tr><tr><td>&quot;Fair&quot;</td><td>&quot;E&quot;</td><td>5370.625</td></tr><tr><td>&quot;Fair&quot;</td><td>&quot;F&quot;</td><td>6063.625</td></tr><tr><td>&quot;Fair&quot;</td><td>&quot;G&quot;</td><td>7345.52381</td></tr><tr><td>&quot;Fair&quot;</td><td>&quot;H&quot;</td><td>5908.5</td></tr><tr><td>&hellip;</td><td>&hellip;</td><td>&hellip;</td></tr><tr><td>&quot;Very Good&quot;</td><td>&quot;E&quot;</td><td>12101.910217</td></tr><tr><td>&quot;Very Good&quot;</td><td>&quot;F&quot;</td><td>12413.905495</td></tr><tr><td>&quot;Very Good&quot;</td><td>&quot;G&quot;</td><td>12354.013841</td></tr><tr><td>&quot;Very Good&quot;</td><td>&quot;H&quot;</td><td>10056.106132</td></tr><tr><td>&quot;Very Good&quot;</td><td>&quot;I&quot;</td><td>8930.031332</td></tr></tbody></table></div>"
            ]
          },
          "metadata": {},
          "execution_count": 30
        }
      ],
      "source": [
        "# Your code here:\n",
        "\n",
        "#Cut-color combinations\n",
        "\n",
        "cut_color_price = df.group_by([\"Cut\", \"Color\"]).agg(\n",
        "    pl.col(\"Price\").mean().alias(\"avg_price\")\n",
        ").sort([\"Cut\", \"Color\"])\n",
        "\n",
        "cut_color_price"
      ]
    },
    {
      "cell_type": "markdown",
      "metadata": {
        "id": "AHlOdjkr2n7_"
      },
      "source": [
        "**Reflection:** How specific is your analysis now? What level of detail does each row represent?"
      ]
    },
    {
      "cell_type": "markdown",
      "metadata": {
        "id": "aj0tBGag2n7_"
      },
      "source": [
        "**Your answer:** New grain ="
      ]
    },
    {
      "cell_type": "markdown",
      "metadata": {
        "id": "cKoEOI662n7_"
      },
      "source": [
        "### Question 10: URGENT - \"Our biggest client is interested in purchasing entire inventory segments. They asked: 'Which color-cut combinations represent your highest total inventory value?' Show me the top 5 most valuable inventory segments by total worth, and include how many diamonds are in each segment.\"\n",
        "\n",
        "This is critical for tomorrow's negotiation."
      ]
    },
    {
      "cell_type": "code",
      "execution_count": 32,
      "metadata": {
        "id": "HMOZw7Ct2n7_",
        "colab": {
          "base_uri": "https://localhost:8080/",
          "height": 255
        },
        "outputId": "6aa3ecf6-6201-4802-9144-8056670a0564"
      },
      "outputs": [
        {
          "output_type": "execute_result",
          "data": {
            "text/plain": [
              "shape: (5, 4)\n",
              "┌───────┬───────────┬─────────────┬───────┐\n",
              "│ Color ┆ Cut       ┆ total_price ┆ count │\n",
              "│ ---   ┆ ---       ┆ ---         ┆ ---   │\n",
              "│ str   ┆ str       ┆ i64         ┆ u32   │\n",
              "╞═══════╪═══════════╪═════════════╪═══════╡\n",
              "│ G     ┆ Ideal     ┆ 9363514     ┆ 690   │\n",
              "│ G     ┆ Very Good ┆ 7140620     ┆ 578   │\n",
              "│ F     ┆ Very Good ┆ 5648327     ┆ 455   │\n",
              "│ F     ┆ Ideal     ┆ 5346782     ┆ 363   │\n",
              "│ H     ┆ Ideal     ┆ 5279687     ┆ 458   │\n",
              "└───────┴───────────┴─────────────┴───────┘"
            ],
            "text/html": [
              "<div><style>\n",
              ".dataframe > thead > tr,\n",
              ".dataframe > tbody > tr {\n",
              "  text-align: right;\n",
              "  white-space: pre-wrap;\n",
              "}\n",
              "</style>\n",
              "<small>shape: (5, 4)</small><table border=\"1\" class=\"dataframe\"><thead><tr><th>Color</th><th>Cut</th><th>total_price</th><th>count</th></tr><tr><td>str</td><td>str</td><td>i64</td><td>u32</td></tr></thead><tbody><tr><td>&quot;G&quot;</td><td>&quot;Ideal&quot;</td><td>9363514</td><td>690</td></tr><tr><td>&quot;G&quot;</td><td>&quot;Very Good&quot;</td><td>7140620</td><td>578</td></tr><tr><td>&quot;F&quot;</td><td>&quot;Very Good&quot;</td><td>5648327</td><td>455</td></tr><tr><td>&quot;F&quot;</td><td>&quot;Ideal&quot;</td><td>5346782</td><td>363</td></tr><tr><td>&quot;H&quot;</td><td>&quot;Ideal&quot;</td><td>5279687</td><td>458</td></tr></tbody></table></div>"
            ]
          },
          "metadata": {},
          "execution_count": 32
        }
      ],
      "source": [
        "# Your code here:\n",
        "\n",
        "# Top most valuable + how many diamonds are in each segment\n",
        "\n",
        "Color_Cut_High = df.group_by([\"Color\",\"Cut\"]).agg(\n",
        "    pl.col(\"Price\").sum().alias(\"total_price\"),\n",
        "    pl.len().alias(\"count\")\n",
        ").sort(\"total_price\", descending=True)\n",
        "\n",
        "Color_Cut_High.head(5)\n",
        "\n"
      ]
    },
    {
      "cell_type": "markdown",
      "metadata": {
        "id": "fcVcb5RB2n7_"
      },
      "source": [
        "## Debrief\n",
        "\n",
        "Congratulations! You've just completed your first day as the diamond company's data analyst.\n",
        "\n",
        "Remember:\n",
        "- CEOs speak in business language, not technical terms\n",
        "- Always understand what each row represents before analyzing\n",
        "- Business questions contain clues about which operations to use"
      ]
    }
  ],
  "metadata": {
    "kernelspec": {
      "display_name": "Python 3",
      "language": "python",
      "name": "python3"
    },
    "language_info": {
      "codemirror_mode": {
        "name": "ipython",
        "version": 3
      },
      "file_extension": ".py",
      "mimetype": "text/x-python",
      "name": "python",
      "nbconvert_exporter": "python",
      "pygments_lexer": "ipython3",
      "version": "3.12.0"
    },
    "colab": {
      "provenance": []
    }
  },
  "nbformat": 4,
  "nbformat_minor": 0
}